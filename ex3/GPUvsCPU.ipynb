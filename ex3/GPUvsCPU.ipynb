{
  "nbformat": 4,
  "nbformat_minor": 0,
  "metadata": {
    "colab": {
      "provenance": []
    },
    "kernelspec": {
      "name": "python3",
      "display_name": "Python 3"
    },
    "language_info": {
      "name": "python"
    },
    "accelerator": "GPU",
    "gpuClass": "standard"
  },
  "cells": [
    {
      "cell_type": "code",
      "execution_count": 1,
      "metadata": {
        "colab": {
          "base_uri": "https://localhost:8080/"
        },
        "id": "TtqlxFdJjiVU",
        "outputId": "98a4f6a3-2cd1-415a-9c2b-58125534b71d"
      },
      "outputs": [
        {
          "output_type": "stream",
          "name": "stdout",
          "text": [
            "Thu Mar  9 08:49:13 2023       \n",
            "+-----------------------------------------------------------------------------+\n",
            "| NVIDIA-SMI 525.85.12    Driver Version: 525.85.12    CUDA Version: 12.0     |\n",
            "|-------------------------------+----------------------+----------------------+\n",
            "| GPU  Name        Persistence-M| Bus-Id        Disp.A | Volatile Uncorr. ECC |\n",
            "| Fan  Temp  Perf  Pwr:Usage/Cap|         Memory-Usage | GPU-Util  Compute M. |\n",
            "|                               |                      |               MIG M. |\n",
            "|===============================+======================+======================|\n",
            "|   0  Tesla T4            Off  | 00000000:00:04.0 Off |                    0 |\n",
            "| N/A   71C    P0    29W /  70W |      0MiB / 15360MiB |      0%      Default |\n",
            "|                               |                      |                  N/A |\n",
            "+-------------------------------+----------------------+----------------------+\n",
            "                                                                               \n",
            "+-----------------------------------------------------------------------------+\n",
            "| Processes:                                                                  |\n",
            "|  GPU   GI   CI        PID   Type   Process name                  GPU Memory |\n",
            "|        ID   ID                                                   Usage      |\n",
            "|=============================================================================|\n",
            "|  No running processes found                                                 |\n",
            "+-----------------------------------------------------------------------------+\n"
          ]
        }
      ],
      "source": [
        "!nvidia-smi"
      ]
    },
    {
      "cell_type": "code",
      "source": [
        "import numpy as np\n",
        "import cupy as cp\n",
        "import timeit"
      ],
      "metadata": {
        "id": "_Fu7Pe5Ijy5N"
      },
      "execution_count": 3,
      "outputs": []
    },
    {
      "cell_type": "code",
      "source": [
        "N1 = 128\n",
        "N2 = 256\n",
        "N3 = 512\n",
        "N4 = 1024\n",
        "N5 = 2048\n",
        "\n",
        "def cupy_fft(M):\n",
        "  M_fft = cp.fft.fft2(M)\n",
        "\n",
        "def numpy_fft(M):\n",
        "  M_fft = np.fft.fft2(M)"
      ],
      "metadata": {
        "id": "2ybCnPDgksFP"
      },
      "execution_count": 22,
      "outputs": []
    },
    {
      "cell_type": "code",
      "source": [
        "M1 = np.random.rand(N1,N1)\n",
        "M2 = np.random.rand(N2,N2)\n",
        "M3 = np.random.rand(N3,N3)\n",
        "M4 = np.random.rand(N4,N4)\n",
        "M5 = np.random.rand(N5,N5)\n",
        "\n",
        "%timeit numpy_fft(M1)\n",
        "%timeit numpy_fft(M2)\n",
        "%timeit numpy_fft(M3)\n",
        "%timeit numpy_fft(M4)\n",
        "%timeit numpy_fft(M5)"
      ],
      "metadata": {
        "colab": {
          "base_uri": "https://localhost:8080/"
        },
        "id": "W1x4I1CemPQn",
        "outputId": "78b49fec-2063-4ef0-c8c0-90cdd4145ef5"
      },
      "execution_count": 23,
      "outputs": [
        {
          "output_type": "stream",
          "name": "stdout",
          "text": [
            "291 µs ± 85 µs per loop (mean ± std. dev. of 7 runs, 1000 loops each)\n",
            "1.03 ms ± 21.6 µs per loop (mean ± std. dev. of 7 runs, 1000 loops each)\n",
            "6.29 ms ± 1.6 ms per loop (mean ± std. dev. of 7 runs, 100 loops each)\n",
            "25.9 ms ± 447 µs per loop (mean ± std. dev. of 7 runs, 10 loops each)\n",
            "157 ms ± 16.9 ms per loop (mean ± std. dev. of 7 runs, 10 loops each)\n"
          ]
        }
      ]
    },
    {
      "cell_type": "code",
      "source": [
        "M1 = cp.random.rand(N1,N1)\n",
        "M2 = cp.random.rand(N2,N2)\n",
        "M3 = cp.random.rand(N3,N3)\n",
        "M4 = cp.random.rand(N4,N4)\n",
        "M5 = cp.random.rand(N5,N5)\n",
        "\n",
        "%timeit cupy_fft(M1)\n",
        "%timeit cupy_fft(M2)\n",
        "%timeit cupy_fft(M3)\n",
        "%timeit cupy_fft(M4)\n",
        "%timeit cupy_fft(M5)"
      ],
      "metadata": {
        "colab": {
          "base_uri": "https://localhost:8080/"
        },
        "id": "pSgLv7IYpW24",
        "outputId": "6e780c14-9579-481d-d470-9b8ea53c3553"
      },
      "execution_count": 24,
      "outputs": [
        {
          "output_type": "stream",
          "name": "stdout",
          "text": [
            "70.7 µs ± 728 ns per loop (mean ± std. dev. of 7 runs, 10000 loops each)\n",
            "79.2 µs ± 13.5 µs per loop (mean ± std. dev. of 7 runs, 10000 loops each)\n",
            "260 µs ± 1.39 µs per loop (mean ± std. dev. of 7 runs, 10000 loops each)\n",
            "1.13 ms ± 3.07 µs per loop (mean ± std. dev. of 7 runs, 1000 loops each)\n",
            "The slowest run took 4.17 times longer than the fastest. This could mean that an intermediate result is being cached.\n",
            "103 µs ± 71.6 µs per loop (mean ± std. dev. of 7 runs, 1 loop each)\n"
          ]
        }
      ]
    },
    {
      "cell_type": "markdown",
      "source": [
        "The GPU version was much faster even for the smallest arrays."
      ],
      "metadata": {
        "id": "7Ys6GPvpwpbX"
      }
    },
    {
      "cell_type": "code",
      "source": [
        "M1 = np.random.rand(N1,N1)\n",
        "M2 = np.random.rand(N2,N2)\n",
        "M3 = np.random.rand(N3,N3)\n",
        "M4 = np.random.rand(N4,N4)\n",
        "M5 = np.random.rand(N5,N5)\n",
        "\n",
        "M1 = M1.astype('float32')\n",
        "M2 = M2.astype('float32')\n",
        "M3 = M3.astype('float32')\n",
        "M4 = M4.astype('float32')\n",
        "M5 = M5.astype('float32')\n",
        "\n",
        "%timeit numpy_fft(M1)\n",
        "%timeit numpy_fft(M2)\n",
        "%timeit numpy_fft(M3)\n",
        "%timeit numpy_fft(M4)\n",
        "%timeit numpy_fft(M5)"
      ],
      "metadata": {
        "colab": {
          "base_uri": "https://localhost:8080/"
        },
        "id": "FT7T6aJvpeWi",
        "outputId": "c05447cd-0443-446d-e131-aeb71e5fc905"
      },
      "execution_count": 25,
      "outputs": [
        {
          "output_type": "stream",
          "name": "stdout",
          "text": [
            "233 µs ± 8.04 µs per loop (mean ± std. dev. of 7 runs, 1000 loops each)\n",
            "1.17 ms ± 271 µs per loop (mean ± std. dev. of 7 runs, 1000 loops each)\n",
            "4.85 ms ± 121 µs per loop (mean ± std. dev. of 7 runs, 100 loops each)\n",
            "26.3 ms ± 841 µs per loop (mean ± std. dev. of 7 runs, 10 loops each)\n",
            "153 ms ± 22.7 ms per loop (mean ± std. dev. of 7 runs, 10 loops each)\n"
          ]
        }
      ]
    },
    {
      "cell_type": "code",
      "source": [
        "M1 = cp.random.rand(N1,N1)\n",
        "M2 = cp.random.rand(N2,N2)\n",
        "M3 = cp.random.rand(N3,N3)\n",
        "M4 = cp.random.rand(N4,N4)\n",
        "M5 = cp.random.rand(N5,N5)\n",
        "\n",
        "M1 = M1.astype('float32')\n",
        "M2 = M2.astype('float32')\n",
        "M3 = M3.astype('float32')\n",
        "M4 = M4.astype('float32')\n",
        "M5 = M5.astype('float32')\n",
        "\n",
        "%timeit cupy_fft(M1)\n",
        "%timeit cupy_fft(M2)\n",
        "%timeit cupy_fft(M3)\n",
        "%timeit cupy_fft(M4)\n",
        "%timeit cupy_fft(M5)"
      ],
      "metadata": {
        "colab": {
          "base_uri": "https://localhost:8080/"
        },
        "id": "q6D_7z7TtReP",
        "outputId": "e9ab0020-6e24-440e-ca30-473cfe6fef68"
      },
      "execution_count": 26,
      "outputs": [
        {
          "output_type": "stream",
          "name": "stdout",
          "text": [
            "78.9 µs ± 15 µs per loop (mean ± std. dev. of 7 runs, 10000 loops each)\n",
            "68.7 µs ± 1.46 µs per loop (mean ± std. dev. of 7 runs, 10000 loops each)\n",
            "79 µs ± 13.2 µs per loop (mean ± std. dev. of 7 runs, 10000 loops each)\n",
            "234 µs ± 473 ns per loop (mean ± std. dev. of 7 runs, 10000 loops each)\n",
            "970 µs ± 1 µs per loop (mean ± std. dev. of 7 runs, 1000 loops each)\n"
          ]
        }
      ]
    },
    {
      "cell_type": "markdown",
      "source": [
        "The float32 version was a little faster for the GPU and the CPU version."
      ],
      "metadata": {
        "id": "kwNXppenw4Ho"
      }
    },
    {
      "cell_type": "code",
      "source": [],
      "metadata": {
        "id": "zlbT-cRlxAMa"
      },
      "execution_count": null,
      "outputs": []
    }
  ]
}