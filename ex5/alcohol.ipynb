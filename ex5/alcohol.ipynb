{
 "cells": [
  {
   "cell_type": "markdown",
   "metadata": {},
   "source": [
    "# Ex - GroupBy"
   ]
  },
  {
   "cell_type": "markdown",
   "metadata": {},
   "source": [
    "### Introduction:\n",
    "\n",
    "GroupBy can be summarizes as Split-Apply-Combine.\n",
    "\n",
    "Special thanks to: https://github.com/justmarkham for sharing the dataset and materials.\n",
    "\n",
    "Check out this [Diagram](http://i.imgur.com/yjNkiwL.png)  \n",
    "### Step 1. Import the necessary libraries"
   ]
  },
  {
   "cell_type": "code",
   "execution_count": 48,
   "metadata": {},
   "outputs": [],
   "source": [
    "import pandas as pd\n",
    "import numpy as np"
   ]
  },
  {
   "cell_type": "markdown",
   "metadata": {},
   "source": [
    "### Step 2. Import the dataset from this [address](https://raw.githubusercontent.com/justmarkham/DAT8/master/data/drinks.csv). "
   ]
  },
  {
   "cell_type": "code",
   "execution_count": 49,
   "metadata": {},
   "outputs": [],
   "source": [
    "drinks = pd.read_csv('https://raw.githubusercontent.com/justmarkham/DAT8/master/data/drinks.csv')"
   ]
  },
  {
   "cell_type": "code",
   "execution_count": 50,
   "metadata": {},
   "outputs": [],
   "source": [
    "drinks['continent'] = drinks['continent'].fillna('NA')"
   ]
  },
  {
   "cell_type": "code",
   "execution_count": 51,
   "metadata": {},
   "outputs": [
    {
     "name": "stdout",
     "output_type": "stream",
     "text": [
      "['AS', 'EU', 'AF', 'NA', 'SA', 'OC']\n"
     ]
    }
   ],
   "source": [
    "con = []\n",
    "for i in range(len(drinks.continent)):\n",
    "    if drinks.continent[i] in con:\n",
    "        continue\n",
    "    else:\n",
    "        con.append(drinks.continent[i])\n",
    "print(con)"
   ]
  },
  {
   "cell_type": "markdown",
   "metadata": {},
   "source": [
    "### Step 3. Assign it to a variable called drinks."
   ]
  },
  {
   "cell_type": "code",
   "execution_count": 52,
   "metadata": {},
   "outputs": [],
   "source": [
    "#see above?\n",
    "drinks.set_index('continent', inplace = True)\n"
   ]
  },
  {
   "cell_type": "markdown",
   "metadata": {},
   "source": [
    "### Step 4. Which continent drinks more beer on average?"
   ]
  },
  {
   "cell_type": "code",
   "execution_count": 55,
   "metadata": {},
   "outputs": [
    {
     "name": "stdout",
     "output_type": "stream",
     "text": [
      "               country  beer_servings  spirit_servings  wine_servings  \\\n",
      "continent                                                               \n",
      "AS         Afghanistan              0                0              0   \n",
      "EU             Albania             89              132             54   \n",
      "AF             Algeria             25                0             14   \n",
      "EU             Andorra            245              138            312   \n",
      "AF              Angola            217               57             45   \n",
      "...                ...            ...              ...            ...   \n",
      "SA           Venezuela            333              100              3   \n",
      "AS             Vietnam            111                2              1   \n",
      "AS               Yemen              6                0              0   \n",
      "AF              Zambia             32               19              4   \n",
      "AF            Zimbabwe             64               18              4   \n",
      "\n",
      "           total_litres_of_pure_alcohol  \n",
      "continent                                \n",
      "AS                                  0.0  \n",
      "EU                                  4.9  \n",
      "AF                                  0.7  \n",
      "EU                                 12.4  \n",
      "AF                                  5.9  \n",
      "...                                 ...  \n",
      "SA                                  7.7  \n",
      "AS                                  2.0  \n",
      "AS                                  0.1  \n",
      "AF                                  2.5  \n",
      "AF                                  4.7  \n",
      "\n",
      "[193 rows x 5 columns]\n"
     ]
    }
   ],
   "source": [
    "print(drinks)"
   ]
  },
  {
   "cell_type": "code",
   "execution_count": 54,
   "metadata": {},
   "outputs": [
    {
     "name": "stdout",
     "output_type": "stream",
     "text": [
      "europe_beer_mean 193.77777777777777\n",
      "asia_beer_mean 37.04545454545455\n",
      "africa_beer_mean 61.471698113207545\n",
      "namerica_beer_mean 145.43478260869566\n",
      "samerica_beer_mean 175.08333333333334\n",
      "oceania_beer_mean 89.6875\n"
     ]
    }
   ],
   "source": [
    "print('europe_beer_mean' , np.mean(drinks.beer_servings.loc['EU']))\n",
    "print('asia_beer_mean' , np.mean(drinks.beer_servings.loc['AS']))\n",
    "print('africa_beer_mean' , np.mean(drinks.beer_servings.loc['AF']))\n",
    "print('namerica_beer_mean' , np.mean(drinks.beer_servings.loc['NA']))\n",
    "print('samerica_beer_mean' , np.mean(drinks.beer_servings.loc['SA']))\n",
    "print('oceania_beer_mean' , np.mean(drinks.beer_servings.loc['OC']))\n",
    "\n",
    "#Europe has the highest beer consumption"
   ]
  },
  {
   "cell_type": "markdown",
   "metadata": {},
   "source": [
    "### Step 5. For each continent print the statistics for wine consumption."
   ]
  },
  {
   "cell_type": "code",
   "execution_count": 57,
   "metadata": {},
   "outputs": [
    {
     "name": "stdout",
     "output_type": "stream",
     "text": [
      "europe_wine_stat 142.22222222222223 96.33319236180894\n",
      "asia_wine_stat 9.068181818181818 21.419402554346\n",
      "africa_wine_stat 16.264150943396228 38.47819816094646\n",
      "namerica_wine_stat 24.52173913043478 27.6450633461059\n",
      "samerica_wine_stat 62.416666666666664 84.84737113717131\n",
      "oceania_wine_stat 35.625 62.50587472390095\n"
     ]
    }
   ],
   "source": [
    "print('europe_wine_stat' , np.mean(drinks.wine_servings.loc['EU']) , np.std(drinks.wine_servings.loc['EU']))\n",
    "print('asia_wine_stat' , np.mean(drinks.wine_servings.loc['AS']) , np.std(drinks.wine_servings.loc['AS']))\n",
    "print('africa_wine_stat' , np.mean(drinks.wine_servings.loc['AF']) , np.std(drinks.wine_servings.loc['AF']))\n",
    "print('namerica_wine_stat' , np.mean(drinks.wine_servings.loc['NA']) , np.std(drinks.wine_servings.loc['NA']))\n",
    "print('samerica_wine_stat' , np.mean(drinks.wine_servings.loc['SA']) , np.std(drinks.wine_servings.loc['SA']))\n",
    "print('oceania_wine_stat' , np.mean(drinks.wine_servings.loc['OC']) , np.std(drinks.wine_servings.loc['OC']))"
   ]
  },
  {
   "cell_type": "markdown",
   "metadata": {},
   "source": [
    "### Step 6. Print the mean alcoohol consumption per continent for every column"
   ]
  },
  {
   "cell_type": "code",
   "execution_count": 58,
   "metadata": {},
   "outputs": [
    {
     "name": "stdout",
     "output_type": "stream",
     "text": [
      "europe_spirits_mean 132.55555555555554\n",
      "asia_spirits_mean 60.84090909090909\n",
      "africa_spirits_mean 16.339622641509433\n",
      "namerica_spirits_mean 165.7391304347826\n",
      "samerica_spirits_mean 114.75\n",
      "oceania_spirits_mean 58.4375\n"
     ]
    }
   ],
   "source": [
    "print('europe_spirits_mean' , np.mean(drinks.spirit_servings.loc['EU']))\n",
    "print('asia_spirits_mean' , np.mean(drinks.spirit_servings.loc['AS']))\n",
    "print('africa_spirits_mean' , np.mean(drinks.spirit_servings.loc['AF']))\n",
    "print('namerica_spirits_mean' , np.mean(drinks.spirit_servings.loc['NA']))\n",
    "print('samerica_spirits_mean' , np.mean(drinks.spirit_servings.loc['SA']))\n",
    "print('oceania_spirits_mean' , np.mean(drinks.spirit_servings.loc['OC']))"
   ]
  },
  {
   "cell_type": "code",
   "execution_count": 59,
   "metadata": {},
   "outputs": [
    {
     "name": "stdout",
     "output_type": "stream",
     "text": [
      "europe_total_alc 8.617777777777775\n",
      "asia_total_alc 2.170454545454545\n",
      "africa_total_alc 3.0075471698113208\n",
      "namerica_total_alc 5.995652173913043\n",
      "samerica_total_alc 6.308333333333334\n",
      "oceania_total_alc 3.3812499999999996\n"
     ]
    }
   ],
   "source": [
    "print('europe_total_alc' , np.mean(drinks.total_litres_of_pure_alcohol.loc['EU']))\n",
    "print('asia_total_alc' , np.mean(drinks.total_litres_of_pure_alcohol.loc['AS']))\n",
    "print('africa_total_alc' , np.mean(drinks.total_litres_of_pure_alcohol.loc['AF']))\n",
    "print('namerica_total_alc' , np.mean(drinks.total_litres_of_pure_alcohol.loc['NA']))\n",
    "print('samerica_total_alc' , np.mean(drinks.total_litres_of_pure_alcohol.loc['SA']))\n",
    "print('oceania_total_alc' , np.mean(drinks.total_litres_of_pure_alcohol.loc['OC']))"
   ]
  },
  {
   "cell_type": "markdown",
   "metadata": {},
   "source": [
    "### Step 7. Print the median alcoohol consumption per continent for every column"
   ]
  },
  {
   "cell_type": "code",
   "execution_count": 60,
   "metadata": {},
   "outputs": [
    {
     "name": "stdout",
     "output_type": "stream",
     "text": [
      "europe_beer_mean 219.0\n",
      "asia_beer_mean 17.5\n",
      "africa_beer_mean 32.0\n",
      "namerica_beer_mean 143.0\n",
      "samerica_beer_mean 162.5\n",
      "oceania_beer_mean 52.5\n"
     ]
    }
   ],
   "source": [
    "print('europe_beer_mean' , np.median(drinks.beer_servings.loc['EU']))\n",
    "print('asia_beer_mean' , np.median(drinks.beer_servings.loc['AS']))\n",
    "print('africa_beer_mean' , np.median(drinks.beer_servings.loc['AF']))\n",
    "print('namerica_beer_mean' , np.median(drinks.beer_servings.loc['NA']))\n",
    "print('samerica_beer_mean' , np.median(drinks.beer_servings.loc['SA']))\n",
    "print('oceania_beer_mean' , np.median(drinks.beer_servings.loc['OC']))"
   ]
  },
  {
   "cell_type": "code",
   "execution_count": 61,
   "metadata": {},
   "outputs": [
    {
     "name": "stdout",
     "output_type": "stream",
     "text": [
      "europe_wine_stat 128.0\n",
      "asia_wine_stat 1.0\n",
      "africa_wine_stat 2.0\n",
      "namerica_wine_stat 11.0\n",
      "samerica_wine_stat 12.0\n",
      "oceania_wine_stat 8.5\n"
     ]
    }
   ],
   "source": [
    "print('europe_wine_stat' , np.median(drinks.wine_servings.loc['EU']))\n",
    "print('asia_wine_stat' , np.median(drinks.wine_servings.loc['AS']))\n",
    "print('africa_wine_stat' , np.median(drinks.wine_servings.loc['AF']))\n",
    "print('namerica_wine_stat' , np.median(drinks.wine_servings.loc['NA']))\n",
    "print('samerica_wine_stat' , np.median(drinks.wine_servings.loc['SA']))\n",
    "print('oceania_wine_stat' , np.median(drinks.wine_servings.loc['OC']))"
   ]
  },
  {
   "cell_type": "code",
   "execution_count": 62,
   "metadata": {},
   "outputs": [
    {
     "name": "stdout",
     "output_type": "stream",
     "text": [
      "europe_spirits_mean 122.0\n",
      "asia_spirits_mean 16.0\n",
      "africa_spirits_mean 3.0\n",
      "namerica_spirits_mean 137.0\n",
      "samerica_spirits_mean 108.5\n",
      "oceania_spirits_mean 37.0\n"
     ]
    }
   ],
   "source": [
    "print('europe_spirits_mean' , np.median(drinks.spirit_servings.loc['EU']))\n",
    "print('asia_spirits_mean' , np.median(drinks.spirit_servings.loc['AS']))\n",
    "print('africa_spirits_mean' , np.median(drinks.spirit_servings.loc['AF']))\n",
    "print('namerica_spirits_mean' , np.median(drinks.spirit_servings.loc['NA']))\n",
    "print('samerica_spirits_mean' , np.median(drinks.spirit_servings.loc['SA']))\n",
    "print('oceania_spirits_mean' , np.median(drinks.spirit_servings.loc['OC']))"
   ]
  },
  {
   "cell_type": "code",
   "execution_count": 63,
   "metadata": {},
   "outputs": [
    {
     "name": "stdout",
     "output_type": "stream",
     "text": [
      "europe_total_alc 10.0\n",
      "asia_total_alc 1.2\n",
      "africa_total_alc 2.3\n",
      "namerica_total_alc 6.3\n",
      "samerica_total_alc 6.85\n",
      "oceania_total_alc 1.75\n"
     ]
    }
   ],
   "source": [
    "print('europe_total_alc' , np.median(drinks.total_litres_of_pure_alcohol.loc['EU']))\n",
    "print('asia_total_alc' , np.median(drinks.total_litres_of_pure_alcohol.loc['AS']))\n",
    "print('africa_total_alc' , np.median(drinks.total_litres_of_pure_alcohol.loc['AF']))\n",
    "print('namerica_total_alc' , np.median(drinks.total_litres_of_pure_alcohol.loc['NA']))\n",
    "print('samerica_total_alc' , np.median(drinks.total_litres_of_pure_alcohol.loc['SA']))\n",
    "print('oceania_total_alc' , np.median(drinks.total_litres_of_pure_alcohol.loc['OC']))"
   ]
  },
  {
   "cell_type": "markdown",
   "metadata": {},
   "source": [
    "### Step 8. Print the mean, min and max values for spirit consumption.\n",
    "#### This time output a DataFrame"
   ]
  },
  {
   "cell_type": "code",
   "execution_count": 64,
   "metadata": {},
   "outputs": [
    {
     "name": "stdout",
     "output_type": "stream",
     "text": [
      "europe_spirits_mean 122.0\n",
      "asia_spirits_mean 16.0\n",
      "africa_spirits_mean 3.0\n",
      "namerica_spirits_mean 137.0\n",
      "samerica_spirits_mean 108.5\n",
      "oceania_spirits_mean 37.0\n"
     ]
    }
   ],
   "source": [
    "print('europe_spirits_mean' , np.median(drinks.spirit_servings.loc['EU']))\n",
    "print('asia_spirits_mean' , np.median(drinks.spirit_servings.loc['AS']))\n",
    "print('africa_spirits_mean' , np.median(drinks.spirit_servings.loc['AF']))\n",
    "print('namerica_spirits_mean' , np.median(drinks.spirit_servings.loc['NA']))\n",
    "print('samerica_spirits_mean' , np.median(drinks.spirit_servings.loc['SA']))\n",
    "print('oceania_spirits_mean' , np.median(drinks.spirit_servings.loc['OC']))"
   ]
  },
  {
   "cell_type": "code",
   "execution_count": 65,
   "metadata": {},
   "outputs": [
    {
     "name": "stdout",
     "output_type": "stream",
     "text": [
      "europe_spirits_min 0\n",
      "asia_spirits_min 0\n",
      "africa_spirits_min 0\n",
      "namerica_spirits_min 68\n",
      "samerica_spirits_min 25\n",
      "oceania_spirits_min 0\n"
     ]
    }
   ],
   "source": [
    "print('europe_spirits_min' , np.min(drinks.spirit_servings.loc['EU']))\n",
    "print('asia_spirits_min' , np.min(drinks.spirit_servings.loc['AS']))\n",
    "print('africa_spirits_min' , np.min(drinks.spirit_servings.loc['AF']))\n",
    "print('namerica_spirits_min' , np.min(drinks.spirit_servings.loc['NA']))\n",
    "print('samerica_spirits_min' , np.min(drinks.spirit_servings.loc['SA']))\n",
    "print('oceania_spirits_min' , np.min(drinks.spirit_servings.loc['OC']))"
   ]
  },
  {
   "cell_type": "code",
   "execution_count": 66,
   "metadata": {},
   "outputs": [
    {
     "name": "stdout",
     "output_type": "stream",
     "text": [
      "europe_spirits_max 373\n",
      "asia_spirits_max 326\n",
      "africa_spirits_max 152\n",
      "namerica_spirits_max 438\n",
      "samerica_spirits_max 302\n",
      "oceania_spirits_max 254\n"
     ]
    }
   ],
   "source": [
    "print('europe_spirits_max' , np.max(drinks.spirit_servings.loc['EU']))\n",
    "print('asia_spirits_max' , np.max(drinks.spirit_servings.loc['AS']))\n",
    "print('africa_spirits_max' , np.max(drinks.spirit_servings.loc['AF']))\n",
    "print('namerica_spirits_max' , np.max(drinks.spirit_servings.loc['NA']))\n",
    "print('samerica_spirits_max' , np.max(drinks.spirit_servings.loc['SA']))\n",
    "print('oceania_spirits_max' , np.max(drinks.spirit_servings.loc['OC']))"
   ]
  },
  {
   "cell_type": "code",
   "execution_count": null,
   "metadata": {},
   "outputs": [],
   "source": []
  },
  {
   "cell_type": "code",
   "execution_count": null,
   "metadata": {},
   "outputs": [],
   "source": []
  }
 ],
 "metadata": {
  "kernelspec": {
   "display_name": "Python 3 (ipykernel)",
   "language": "python",
   "name": "python3"
  },
  "language_info": {
   "codemirror_mode": {
    "name": "ipython",
    "version": 3
   },
   "file_extension": ".py",
   "mimetype": "text/x-python",
   "name": "python",
   "nbconvert_exporter": "python",
   "pygments_lexer": "ipython3",
   "version": "3.9.12"
  }
 },
 "nbformat": 4,
 "nbformat_minor": 1
}
