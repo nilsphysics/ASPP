{
 "cells": [
  {
   "cell_type": "markdown",
   "metadata": {},
   "source": [
    "# Exercise 1"
   ]
  },
  {
   "cell_type": "markdown",
   "metadata": {},
   "source": [
    "### Step 1. Go to https://www.kaggle.com/openfoodfacts/world-food-facts/data"
   ]
  },
  {
   "cell_type": "markdown",
   "metadata": {},
   "source": [
    "### Step 2. Download the dataset to your computer and unzip it."
   ]
  },
  {
   "cell_type": "markdown",
   "metadata": {},
   "source": [
    "### Step 3. Use the tsv file and assign it to a dataframe called food"
   ]
  },
  {
   "cell_type": "code",
   "execution_count": 2,
   "metadata": {},
   "outputs": [],
   "source": [
    "import pandas as pd"
   ]
  },
  {
   "cell_type": "code",
   "execution_count": 5,
   "metadata": {},
   "outputs": [
    {
     "name": "stderr",
     "output_type": "stream",
     "text": [
      "/var/folders/n6/ynkbf2y92kx81sschl0fzp_w0000gn/T/ipykernel_43271/1347532582.py:1: DtypeWarning: Columns (0,3,5,19,20,24,25,26,27,28,36,37,38,39,48) have mixed types. Specify dtype option on import or set low_memory=False.\n",
      "  food = pd.read_csv('en.openfoodfacts.org.products.tsv', sep='\\t')\n"
     ]
    }
   ],
   "source": [
    "food = pd.read_csv('en.openfoodfacts.org.products.tsv', sep='\\t')"
   ]
  },
  {
   "cell_type": "code",
   "execution_count": 10,
   "metadata": {},
   "outputs": [
    {
     "name": "stdout",
     "output_type": "stream",
     "text": [
      "                 code                                                url  \\\n",
      "0                3087  http://world-en.openfoodfacts.org/product/0000...   \n",
      "1                4530  http://world-en.openfoodfacts.org/product/0000...   \n",
      "2                4559  http://world-en.openfoodfacts.org/product/0000...   \n",
      "3               16087  http://world-en.openfoodfacts.org/product/0000...   \n",
      "4               16094  http://world-en.openfoodfacts.org/product/0000...   \n",
      "...               ...                                                ...   \n",
      "356022       99567453  http://world-en.openfoodfacts.org/product/9956...   \n",
      "356023  9970229501521  http://world-en.openfoodfacts.org/product/9970...   \n",
      "356024  9977471758307  http://world-en.openfoodfacts.org/product/9977...   \n",
      "356025  9980282863788  http://world-en.openfoodfacts.org/product/9980...   \n",
      "356026   999990026839  http://world-en.openfoodfacts.org/product/9999...   \n",
      "\n",
      "                           creator   created_t      created_datetime  \\\n",
      "0       openfoodfacts-contributors  1474103866  2016-09-17T09:17:46Z   \n",
      "1                  usda-ndb-import  1489069957  2017-03-09T14:32:37Z   \n",
      "2                  usda-ndb-import  1489069957  2017-03-09T14:32:37Z   \n",
      "3                  usda-ndb-import  1489055731  2017-03-09T10:35:31Z   \n",
      "4                  usda-ndb-import  1489055653  2017-03-09T10:34:13Z   \n",
      "...                            ...         ...                   ...   \n",
      "356022             usda-ndb-import  1489059076  2017-03-09T11:31:16Z   \n",
      "356023                      tomato  1422099377  2015-01-24T11:36:17Z   \n",
      "356024  openfoodfacts-contributors  1497018549  2017-06-09T14:29:09Z   \n",
      "356025  openfoodfacts-contributors  1492340089  2017-04-16T10:54:49Z   \n",
      "356026             usda-ndb-import  1489072709  2017-03-09T15:18:29Z   \n",
      "\n",
      "       last_modified_t last_modified_datetime  \\\n",
      "0           1474103893   2016-09-17T09:18:13Z   \n",
      "1           1489069957   2017-03-09T14:32:37Z   \n",
      "2           1489069957   2017-03-09T14:32:37Z   \n",
      "3           1489055731   2017-03-09T10:35:31Z   \n",
      "4           1489055653   2017-03-09T10:34:13Z   \n",
      "...                ...                    ...   \n",
      "356022      1491244499   2017-04-03T18:34:59Z   \n",
      "356023      1491244499   2017-04-03T18:34:59Z   \n",
      "356024      1500730305   2017-07-22T13:31:45Z   \n",
      "356025      1492340089   2017-04-16T10:54:49Z   \n",
      "356026      1491244499   2017-04-03T18:34:59Z   \n",
      "\n",
      "                                             product_name  \\\n",
      "0                                      Farine de blé noir   \n",
      "1                          Banana Chips Sweetened (Whole)   \n",
      "2                                                 Peanuts   \n",
      "3                                  Organic Salted Nut Mix   \n",
      "4                                         Organic Polenta   \n",
      "...                                                   ...   \n",
      "356022  Mint Melange Tea A Blend Of Peppermint, Lemon ...   \n",
      "356023                                            乐吧泡菜味薯片   \n",
      "356024                                      Biscottes bio   \n",
      "356025                           Tomates aux Vermicelles    \n",
      "356026                    Sugar Free Drink Mix, Peach Tea   \n",
      "\n",
      "                           generic_name quantity  ...  \\\n",
      "0                                   NaN      1kg  ...   \n",
      "1                                   NaN      NaN  ...   \n",
      "2                                   NaN      NaN  ...   \n",
      "3                                   NaN      NaN  ...   \n",
      "4                                   NaN      NaN  ...   \n",
      "...                                 ...      ...  ...   \n",
      "356022                              NaN      NaN  ...   \n",
      "356023  Leba pickle flavor potato chips     50 g  ...   \n",
      "356024                              NaN     300g  ...   \n",
      "356025                              NaN      67g  ...   \n",
      "356026                              NaN      NaN  ...   \n",
      "\n",
      "       fruits-vegetables-nuts_100g fruits-vegetables-nuts-estimate_100g  \\\n",
      "0                              NaN                                  NaN   \n",
      "1                              NaN                                  NaN   \n",
      "2                              NaN                                  NaN   \n",
      "3                              NaN                                  NaN   \n",
      "4                              NaN                                  NaN   \n",
      "...                            ...                                  ...   \n",
      "356022                         NaN                                  NaN   \n",
      "356023                         NaN                                  NaN   \n",
      "356024                         NaN                                  NaN   \n",
      "356025                         NaN                                  NaN   \n",
      "356026                         NaN                                  NaN   \n",
      "\n",
      "       collagen-meat-protein-ratio_100g cocoa_100g chlorophyl_100g  \\\n",
      "0                                   NaN        NaN             NaN   \n",
      "1                                   NaN        NaN             NaN   \n",
      "2                                   NaN        NaN             NaN   \n",
      "3                                   NaN        NaN             NaN   \n",
      "4                                   NaN        NaN             NaN   \n",
      "...                                 ...        ...             ...   \n",
      "356022                              NaN        NaN             NaN   \n",
      "356023                              NaN        NaN             NaN   \n",
      "356024                              NaN        NaN             NaN   \n",
      "356025                              NaN        NaN             NaN   \n",
      "356026                              NaN        NaN             NaN   \n",
      "\n",
      "       carbon-footprint_100g nutrition-score-fr_100g nutrition-score-uk_100g  \\\n",
      "0                        NaN                     NaN                     NaN   \n",
      "1                        NaN                    14.0                    14.0   \n",
      "2                        NaN                     0.0                     0.0   \n",
      "3                        NaN                    12.0                    12.0   \n",
      "4                        NaN                     NaN                     NaN   \n",
      "...                      ...                     ...                     ...   \n",
      "356022                   NaN                     0.0                     0.0   \n",
      "356023                   NaN                     NaN                     NaN   \n",
      "356024                   NaN                     NaN                     NaN   \n",
      "356025                   NaN                     NaN                     NaN   \n",
      "356026                   NaN                     NaN                     NaN   \n",
      "\n",
      "       glycemic-index_100g water-hardness_100g  \n",
      "0                      NaN                 NaN  \n",
      "1                      NaN                 NaN  \n",
      "2                      NaN                 NaN  \n",
      "3                      NaN                 NaN  \n",
      "4                      NaN                 NaN  \n",
      "...                    ...                 ...  \n",
      "356022                 NaN                 NaN  \n",
      "356023                 NaN                 NaN  \n",
      "356024                 NaN                 NaN  \n",
      "356025                 NaN                 NaN  \n",
      "356026                 NaN                 NaN  \n",
      "\n",
      "[356027 rows x 163 columns]\n"
     ]
    }
   ],
   "source": [
    "print(food)"
   ]
  },
  {
   "cell_type": "markdown",
   "metadata": {},
   "source": [
    "### Step 4. See the first 5 entries"
   ]
  },
  {
   "cell_type": "code",
   "execution_count": 14,
   "metadata": {},
   "outputs": [
    {
     "name": "stdout",
     "output_type": "stream",
     "text": [
      "code                                                                    3087\n",
      "url                        http://world-en.openfoodfacts.org/product/0000...\n",
      "creator                                           openfoodfacts-contributors\n",
      "created_t                                                         1474103866\n",
      "created_datetime                                        2016-09-17T09:17:46Z\n",
      "                                                 ...                        \n",
      "carbon-footprint_100g                                                    NaN\n",
      "nutrition-score-fr_100g                                                  NaN\n",
      "nutrition-score-uk_100g                                                  NaN\n",
      "glycemic-index_100g                                                      NaN\n",
      "water-hardness_100g                                                      NaN\n",
      "Name: 0, Length: 163, dtype: object\n",
      "---------------\n",
      "code                                                                    4530\n",
      "url                        http://world-en.openfoodfacts.org/product/0000...\n",
      "creator                                                      usda-ndb-import\n",
      "created_t                                                         1489069957\n",
      "created_datetime                                        2017-03-09T14:32:37Z\n",
      "                                                 ...                        \n",
      "carbon-footprint_100g                                                    NaN\n",
      "nutrition-score-fr_100g                                                 14.0\n",
      "nutrition-score-uk_100g                                                 14.0\n",
      "glycemic-index_100g                                                      NaN\n",
      "water-hardness_100g                                                      NaN\n",
      "Name: 1, Length: 163, dtype: object\n",
      "---------------\n",
      "code                                                                    4559\n",
      "url                        http://world-en.openfoodfacts.org/product/0000...\n",
      "creator                                                      usda-ndb-import\n",
      "created_t                                                         1489069957\n",
      "created_datetime                                        2017-03-09T14:32:37Z\n",
      "                                                 ...                        \n",
      "carbon-footprint_100g                                                    NaN\n",
      "nutrition-score-fr_100g                                                  0.0\n",
      "nutrition-score-uk_100g                                                  0.0\n",
      "glycemic-index_100g                                                      NaN\n",
      "water-hardness_100g                                                      NaN\n",
      "Name: 2, Length: 163, dtype: object\n",
      "---------------\n",
      "code                                                                   16087\n",
      "url                        http://world-en.openfoodfacts.org/product/0000...\n",
      "creator                                                      usda-ndb-import\n",
      "created_t                                                         1489055731\n",
      "created_datetime                                        2017-03-09T10:35:31Z\n",
      "                                                 ...                        \n",
      "carbon-footprint_100g                                                    NaN\n",
      "nutrition-score-fr_100g                                                 12.0\n",
      "nutrition-score-uk_100g                                                 12.0\n",
      "glycemic-index_100g                                                      NaN\n",
      "water-hardness_100g                                                      NaN\n",
      "Name: 3, Length: 163, dtype: object\n",
      "---------------\n",
      "code                                                                   16094\n",
      "url                        http://world-en.openfoodfacts.org/product/0000...\n",
      "creator                                                      usda-ndb-import\n",
      "created_t                                                         1489055653\n",
      "created_datetime                                        2017-03-09T10:34:13Z\n",
      "                                                 ...                        \n",
      "carbon-footprint_100g                                                    NaN\n",
      "nutrition-score-fr_100g                                                  NaN\n",
      "nutrition-score-uk_100g                                                  NaN\n",
      "glycemic-index_100g                                                      NaN\n",
      "water-hardness_100g                                                      NaN\n",
      "Name: 4, Length: 163, dtype: object\n"
     ]
    }
   ],
   "source": [
    "print(food.iloc[0])\n",
    "print('---------------')\n",
    "print(food.iloc[1])\n",
    "print('---------------')\n",
    "print(food.iloc[2])\n",
    "print('---------------')\n",
    "print(food.iloc[3])\n",
    "print('---------------')\n",
    "print(food.iloc[4])"
   ]
  },
  {
   "cell_type": "markdown",
   "metadata": {},
   "source": [
    "### Step 5. What is the number of observations in the dataset?"
   ]
  },
  {
   "cell_type": "code",
   "execution_count": 18,
   "metadata": {},
   "outputs": [
    {
     "name": "stdout",
     "output_type": "stream",
     "text": [
      "356027\n"
     ]
    }
   ],
   "source": [
    "print(len(food))"
   ]
  },
  {
   "cell_type": "markdown",
   "metadata": {},
   "source": [
    "### Step 6. What is the number of columns in the dataset?"
   ]
  },
  {
   "cell_type": "code",
   "execution_count": 21,
   "metadata": {},
   "outputs": [
    {
     "name": "stdout",
     "output_type": "stream",
     "text": [
      "163\n"
     ]
    }
   ],
   "source": [
    "print(len(food.iloc[42]))"
   ]
  },
  {
   "cell_type": "markdown",
   "metadata": {},
   "source": [
    "### Step 7. Print the name of all the columns."
   ]
  },
  {
   "cell_type": "code",
   "execution_count": 24,
   "metadata": {},
   "outputs": [
    {
     "name": "stdout",
     "output_type": "stream",
     "text": [
      "code\n",
      "url\n",
      "creator\n",
      "created_t\n",
      "created_datetime\n",
      "last_modified_t\n",
      "last_modified_datetime\n",
      "product_name\n",
      "generic_name\n",
      "quantity\n",
      "packaging\n",
      "packaging_tags\n",
      "brands\n",
      "brands_tags\n",
      "categories\n",
      "categories_tags\n",
      "categories_en\n",
      "origins\n",
      "origins_tags\n",
      "manufacturing_places\n",
      "manufacturing_places_tags\n",
      "labels\n",
      "labels_tags\n",
      "labels_en\n",
      "emb_codes\n",
      "emb_codes_tags\n",
      "first_packaging_code_geo\n",
      "cities\n",
      "cities_tags\n",
      "purchase_places\n",
      "stores\n",
      "countries\n",
      "countries_tags\n",
      "countries_en\n",
      "ingredients_text\n",
      "allergens\n",
      "allergens_en\n",
      "traces\n",
      "traces_tags\n",
      "traces_en\n",
      "serving_size\n",
      "no_nutriments\n",
      "additives_n\n",
      "additives\n",
      "additives_tags\n",
      "additives_en\n",
      "ingredients_from_palm_oil_n\n",
      "ingredients_from_palm_oil\n",
      "ingredients_from_palm_oil_tags\n",
      "ingredients_that_may_be_from_palm_oil_n\n",
      "ingredients_that_may_be_from_palm_oil\n",
      "ingredients_that_may_be_from_palm_oil_tags\n",
      "nutrition_grade_uk\n",
      "nutrition_grade_fr\n",
      "pnns_groups_1\n",
      "pnns_groups_2\n",
      "states\n",
      "states_tags\n",
      "states_en\n",
      "main_category\n",
      "main_category_en\n",
      "image_url\n",
      "image_small_url\n",
      "energy_100g\n",
      "energy-from-fat_100g\n",
      "fat_100g\n",
      "saturated-fat_100g\n",
      "-butyric-acid_100g\n",
      "-caproic-acid_100g\n",
      "-caprylic-acid_100g\n",
      "-capric-acid_100g\n",
      "-lauric-acid_100g\n",
      "-myristic-acid_100g\n",
      "-palmitic-acid_100g\n",
      "-stearic-acid_100g\n",
      "-arachidic-acid_100g\n",
      "-behenic-acid_100g\n",
      "-lignoceric-acid_100g\n",
      "-cerotic-acid_100g\n",
      "-montanic-acid_100g\n",
      "-melissic-acid_100g\n",
      "monounsaturated-fat_100g\n",
      "polyunsaturated-fat_100g\n",
      "omega-3-fat_100g\n",
      "-alpha-linolenic-acid_100g\n",
      "-eicosapentaenoic-acid_100g\n",
      "-docosahexaenoic-acid_100g\n",
      "omega-6-fat_100g\n",
      "-linoleic-acid_100g\n",
      "-arachidonic-acid_100g\n",
      "-gamma-linolenic-acid_100g\n",
      "-dihomo-gamma-linolenic-acid_100g\n",
      "omega-9-fat_100g\n",
      "-oleic-acid_100g\n",
      "-elaidic-acid_100g\n",
      "-gondoic-acid_100g\n",
      "-mead-acid_100g\n",
      "-erucic-acid_100g\n",
      "-nervonic-acid_100g\n",
      "trans-fat_100g\n",
      "cholesterol_100g\n",
      "carbohydrates_100g\n",
      "sugars_100g\n",
      "-sucrose_100g\n",
      "-glucose_100g\n",
      "-fructose_100g\n",
      "-lactose_100g\n",
      "-maltose_100g\n",
      "-maltodextrins_100g\n",
      "starch_100g\n",
      "polyols_100g\n",
      "fiber_100g\n",
      "proteins_100g\n",
      "casein_100g\n",
      "serum-proteins_100g\n",
      "nucleotides_100g\n",
      "salt_100g\n",
      "sodium_100g\n",
      "alcohol_100g\n",
      "vitamin-a_100g\n",
      "beta-carotene_100g\n",
      "vitamin-d_100g\n",
      "vitamin-e_100g\n",
      "vitamin-k_100g\n",
      "vitamin-c_100g\n",
      "vitamin-b1_100g\n",
      "vitamin-b2_100g\n",
      "vitamin-pp_100g\n",
      "vitamin-b6_100g\n",
      "vitamin-b9_100g\n",
      "folates_100g\n",
      "vitamin-b12_100g\n",
      "biotin_100g\n",
      "pantothenic-acid_100g\n",
      "silica_100g\n",
      "bicarbonate_100g\n",
      "potassium_100g\n",
      "chloride_100g\n",
      "calcium_100g\n",
      "phosphorus_100g\n",
      "iron_100g\n",
      "magnesium_100g\n",
      "zinc_100g\n",
      "copper_100g\n",
      "manganese_100g\n",
      "fluoride_100g\n",
      "selenium_100g\n",
      "chromium_100g\n",
      "molybdenum_100g\n",
      "iodine_100g\n",
      "caffeine_100g\n",
      "taurine_100g\n",
      "ph_100g\n",
      "fruits-vegetables-nuts_100g\n",
      "fruits-vegetables-nuts-estimate_100g\n",
      "collagen-meat-protein-ratio_100g\n",
      "cocoa_100g\n",
      "chlorophyl_100g\n",
      "carbon-footprint_100g\n",
      "nutrition-score-fr_100g\n",
      "nutrition-score-uk_100g\n",
      "glycemic-index_100g\n",
      "water-hardness_100g\n"
     ]
    }
   ],
   "source": [
    "for col in food.columns:\n",
    "    print(col)"
   ]
  },
  {
   "cell_type": "markdown",
   "metadata": {},
   "source": [
    "### Step 8. What is the name of 105th column?"
   ]
  },
  {
   "cell_type": "code",
   "execution_count": 28,
   "metadata": {},
   "outputs": [
    {
     "name": "stdout",
     "output_type": "stream",
     "text": [
      "-fructose_100g\n",
      "-glucose_100g\n"
     ]
    }
   ],
   "source": [
    "print(food.columns[105])\n",
    "print(food.columns[104])"
   ]
  },
  {
   "cell_type": "markdown",
   "metadata": {},
   "source": [
    "### Step 9. What is the type of the observations of the 105th column?"
   ]
  },
  {
   "cell_type": "code",
   "execution_count": 38,
   "metadata": {},
   "outputs": [
    {
     "name": "stdout",
     "output_type": "stream",
     "text": [
      "float64\n"
     ]
    }
   ],
   "source": [
    "print(food.iloc[33363][104].dtype)"
   ]
  },
  {
   "cell_type": "markdown",
   "metadata": {},
   "source": [
    "### Step 10. How is the dataset indexed?"
   ]
  },
  {
   "cell_type": "code",
   "execution_count": null,
   "metadata": {
    "collapsed": true
   },
   "outputs": [],
   "source": [
    "# I'm not sure I understand the question, the index runs from 0 to 356027 for all observables."
   ]
  },
  {
   "cell_type": "markdown",
   "metadata": {},
   "source": [
    "### Step 11. What is the product name of the 19th observation?"
   ]
  },
  {
   "cell_type": "code",
   "execution_count": 43,
   "metadata": {},
   "outputs": [
    {
     "name": "stdout",
     "output_type": "stream",
     "text": [
      "Organic Oat Groats\n",
      "Lotus Organic Brown Jasmine Rice\n"
     ]
    }
   ],
   "source": [
    "print(food.iloc[19].product_name)\n",
    "print(food.iloc[18].product_name)"
   ]
  },
  {
   "cell_type": "code",
   "execution_count": null,
   "metadata": {},
   "outputs": [],
   "source": []
  }
 ],
 "metadata": {
  "anaconda-cloud": {},
  "kernelspec": {
   "display_name": "Python 3 (ipykernel)",
   "language": "python",
   "name": "python3"
  },
  "language_info": {
   "codemirror_mode": {
    "name": "ipython",
    "version": 3
   },
   "file_extension": ".py",
   "mimetype": "text/x-python",
   "name": "python",
   "nbconvert_exporter": "python",
   "pygments_lexer": "ipython3",
   "version": "3.9.12"
  }
 },
 "nbformat": 4,
 "nbformat_minor": 1
}
